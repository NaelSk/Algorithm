{
 "cells": [
  {
   "cell_type": "markdown",
   "metadata": {},
   "source": [
    "# Algoritm 1\n"
   ]
  },
  {
   "cell_type": "markdown",
   "metadata": {},
   "source": [
    "Kirjoita ohjelma, jolla voidaan laskea, kuinka moni kokonaislukutaulukon luvuista kuuluu annetulle välille [a,b]. Muodosta taulukko, joka sisältää satunnaisia kokonaislukuja, ja laske kuinka moni sen luvuista kuuluu väleille [0,10], [50,100] ja [67,75]. (Javassa ja C#:ssa satunnaislukuja voi luoda Random-luokan metodeilla.)\n",
    "\n"
   ]
  },
  {
   "cell_type": "code",
   "execution_count": 2,
   "metadata": {},
   "outputs": [],
   "source": [
    "import numpy as np\n",
    "from numpy import random\n",
    "from numpy.random import uniform\n"
   ]
  },
  {
   "cell_type": "code",
   "execution_count": 54,
   "metadata": {},
   "outputs": [
    {
     "name": "stdout",
     "output_type": "stream",
     "text": [
      "[28 14 37  7 30 41 36 16 40 43 17 43 39 17 22 37 18 25 44 25 43  9 48  9\n",
      " 28 31 45 40 10  9 33 45 21 20 33 35 27 20 41 17 16 35 19 20 17 49 11 45\n",
      " 38 36 18 43 47 34 43  7 17 27 27 43 31 44 29 25 16 15 50 29 21 16 49  7\n",
      " 29 40 18 47 39 11 41  7 31 22 18 36 46 23 47  9 48 13 50 41]\n",
      "84\n"
     ]
    }
   ],
   "source": [
    "\n",
    "def rand(down, up):\n",
    "  \"\"\"\n",
    "  The function will take upper and lower boundary for certine interval \n",
    "  and generate a random arry of integers with random size. Will \n",
    "  return how many integers in that array belong to that given  interval \n",
    "  \"\"\"\n",
    "  #create random arry with random size. \n",
    "  size=round(uniform(0,100))\n",
    "  bound1= round(uniform(0,2*up))\n",
    "  bound2= round(uniform(0,2*down))\n",
    "  ranUp=bound2\n",
    "  ranDw=bound1\n",
    "  \n",
    "  if bound1 > bound2:\n",
    "        ranUp=bound1\n",
    "        ranDw=bound2\n",
    "  \n",
    "    \n",
    "  random_values=random.randint(ranDw, ranUp,size)\n",
    "    \n",
    "    \n",
    "  print(random_values)\n",
    "  counter=0\n",
    "  for i in random_values:\n",
    "    if i >= down and i <= up: \n",
    "        counter+=1\n",
    "  return counter\n",
    "if __name__ == '__main__':\n",
    "    print(rand(10,100))\n",
    "    "
   ]
  },
  {
   "cell_type": "markdown",
   "metadata": {},
   "source": [
    "# Algoritm 2\n"
   ]
  },
  {
   "cell_type": "markdown",
   "metadata": {},
   "source": [
    "## O1\n"
   ]
  },
  {
   "cell_type": "markdown",
   "metadata": {},
   "source": [
    "Write a program which sorts the numbers in an integer array into\n",
    "descending or ascending order using the method of heapsort.\n",
    "Test the program with some random integer arrays."
   ]
  },
  {
   "cell_type": "markdown",
   "metadata": {},
   "source": [
    "# idea\n"
   ]
  },
  {
   "cell_type": "markdown",
   "metadata": {},
   "source": [
    "First we have to build the heap from that list. Then start sorting\n"
   ]
  },
  {
   "cell_type": "code",
   "execution_count": 90,
   "metadata": {},
   "outputs": [
    {
     "name": "stdout",
     "output_type": "stream",
     "text": [
      "The final result of MaxHeapIFy  :\n",
      " [16, 14, 10, 8, 7, 9, 3, 2, 4, 1]\n",
      "The final result of Bulid_Max_Heap  :\n",
      " [16, 14, 10, 8, 7, 9, 3, 2, 4, 1]\n"
     ]
    }
   ],
   "source": [
    "def Parent(i):\n",
    "    return i//2\n",
    "\n",
    "def Left(i):\n",
    "    return (2*i)+1\n",
    "\n",
    "def Right(i):\n",
    "    return (2*i)+2\n",
    "\n",
    "def MaxHeapIFy(l,i,HeapSize=None):\n",
    "    #print(\"old\",l)\n",
    "    if HeapSize==None:\n",
    "       HeapSize=len(l)\n",
    "    \n",
    "    l_index=Left(i)\n",
    "    r_index=Right(i)\n",
    "    \n",
    "    # This for checking if we reach to the buttom of the heap\n",
    "    try: \n",
    "        if l_index<=HeapSize and l[l_index]>l[i]:\n",
    "            largest_index=l_index\n",
    "        else: largest_index=i\n",
    "    \n",
    "    except IndexError:\n",
    "        #print(\"now left chlid\")\n",
    "        largest_index=i\n",
    "    \n",
    "    try: \n",
    "        if (r_index<=HeapSize) & (l[r_index]>l[largest_index]):\n",
    "            largest_index=r_index\n",
    "    except IndexError:\n",
    "        s = \"do nothing\"#print (\"no right child\")# This mean that the leave does not have any child. \n",
    "     \n",
    "    \n",
    "    # Switch block\n",
    "    if largest_index !=i:\n",
    "        \n",
    "        new=l[i]\n",
    "        l[i]= l[largest_index]\n",
    "        l[largest_index]=new\n",
    "        MaxHeapIFy(l,largest_index)\n",
    "    \n",
    "    \n",
    "    return l\n",
    "\n",
    "def Bulid_Max_Heap(l):\n",
    "    HeapSize=len(l)\n",
    "    r=len(l)//2\n",
    "    for i in reversed (range(r) ):\n",
    "        MaxHeapIFy(l,i)\n",
    "        #print (\" Stag\",i, l)\n",
    "    return l\n",
    "\n",
    "if __name__ == '__main__':\n",
    "    #print(Parent(6),Left(6),Right(6))\n",
    "    print (\"The final result of MaxHeapIFy  :\\n\", MaxHeapIFy([16,4,10,14,7,9,3,2,8,1],1))\n",
    "    print(\"The final result of Bulid_Max_Heap  :\\n\", Bulid_Max_Heap([4, 1, 3, 2, 16, 9, 10, 14, 8, 7]))"
   ]
  },
  {
   "cell_type": "code",
   "execution_count": null,
   "metadata": {},
   "outputs": [],
   "source": []
  }
 ],
 "metadata": {
  "kernelspec": {
   "display_name": "Python 3",
   "language": "python",
   "name": "python3"
  },
  "language_info": {
   "codemirror_mode": {
    "name": "ipython",
    "version": 3
   },
   "file_extension": ".py",
   "mimetype": "text/x-python",
   "name": "python",
   "nbconvert_exporter": "python",
   "pygments_lexer": "ipython3",
   "version": "3.7.5"
  }
 },
 "nbformat": 4,
 "nbformat_minor": 2
}
