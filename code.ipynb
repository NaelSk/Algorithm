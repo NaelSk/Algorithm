{
 "cells": [
  {
   "cell_type": "markdown",
   "metadata": {},
   "source": [
    "# Algoritm 1\n"
   ]
  },
  {
   "cell_type": "markdown",
   "metadata": {},
   "source": [
    "Kirjoita ohjelma, jolla voidaan laskea, kuinka moni kokonaislukutaulukon luvuista kuuluu annetulle välille [a,b]. Muodosta taulukko, joka sisältää satunnaisia kokonaislukuja, ja laske kuinka moni sen luvuista kuuluu väleille [0,10], [50,100] ja [67,75]. (Javassa ja C#:ssa satunnaislukuja voi luoda Random-luokan metodeilla.)\n",
    "\n"
   ]
  },
  {
   "cell_type": "code",
   "execution_count": 6,
   "metadata": {},
   "outputs": [],
   "source": [
    "import numpy as np\n",
    "from numpy import random\n",
    "from numpy.random import uniform\n",
    "\n",
    "\n",
    "# Library functions for prime \n",
    "import sympy \n"
   ]
  },
  {
   "cell_type": "code",
   "execution_count": 2,
   "metadata": {},
   "outputs": [
    {
     "name": "stdout",
     "output_type": "stream",
     "text": [
      "[122  18  73  27  85  93 102  64 134  68 125 144 138  95 102 137  18 157\n",
      "  34 104  37  17 128 106  84 119  40  91 146  98  63  74  71 116  97  20\n",
      " 119 160  68  50 111   9  31 157  39  88 109  83  17  12 111  29  33  53\n",
      "  77 110 163  53 116 105  77  38  53  49  84 112   5 138 160  75  36 100\n",
      "  49 109  69 160  10  32   2  91  99   9  44 144  45  98  56 148 151  11\n",
      "  93  60  46  35 141  10 102]\n",
      "58\n"
     ]
    }
   ],
   "source": [
    "\n",
    "def rand(down, up):\n",
    "  \"\"\"\n",
    "  The function will take upper and lower boundary for certine interval \n",
    "  and generate a random arry of integers with random size. Will \n",
    "  return how many integers in that array belong to that given  interval \n",
    "  \"\"\"\n",
    "  #create random arry with random size. \n",
    "  size=round(uniform(0,100))\n",
    "  bound1= round(uniform(0,2*up))\n",
    "  bound2= round(uniform(0,2*down))\n",
    "  ranUp=bound2\n",
    "  ranDw=bound1\n",
    "  \n",
    "  if bound1 > bound2:\n",
    "        ranUp=bound1\n",
    "        ranDw=bound2\n",
    "  \n",
    "    \n",
    "  random_values=random.randint(ranDw, ranUp,size)\n",
    "    \n",
    "    \n",
    "  print(random_values)\n",
    "  counter=0\n",
    "  for i in random_values:\n",
    "    if i >= down and i <= up: \n",
    "        counter+=1\n",
    "  return counter\n",
    "if __name__ == '__main__':\n",
    "    print(rand(10,100))\n",
    "    "
   ]
  },
  {
   "cell_type": "markdown",
   "metadata": {},
   "source": [
    "# Algoritm 2\n"
   ]
  },
  {
   "cell_type": "markdown",
   "metadata": {},
   "source": [
    "## O1\n"
   ]
  },
  {
   "cell_type": "markdown",
   "metadata": {},
   "source": [
    "Write a program which sorts the numbers in an integer array into\n",
    "descending or ascending order using the method of heapsort.\n",
    "Test the program with some random integer arrays."
   ]
  },
  {
   "cell_type": "markdown",
   "metadata": {},
   "source": [
    "# idea\n"
   ]
  },
  {
   "cell_type": "markdown",
   "metadata": {},
   "source": [
    "First we have to build the heap from that list. Then start sorting.\n"
   ]
  },
  {
   "cell_type": "code",
   "execution_count": 31,
   "metadata": {
    "scrolled": true
   },
   "outputs": [
    {
     "name": "stdout",
     "output_type": "stream",
     "text": [
      "Random list is:\n",
      " [22, 27, 8, 27, 28, 17, 23, 17, 29, 23, 29, 17, 19, 6, 29, 12, 29, 15]\n",
      "The list become after sorting:\n",
      " [6, 8, 12, 15, 17, 17, 17, 19, 22, 23, 23, 27, 27, 28, 29, 29, 29, 29]\n"
     ]
    }
   ],
   "source": [
    "def Random_List():  \n",
    "    randomlist = []\n",
    "    size=n = random.randint(1,20)\n",
    "    for i in range(0,size):\n",
    "        n = random.randint(1,30)\n",
    "        randomlist.append(n)\n",
    "    return randomlist\n",
    "\n",
    "\n",
    "def Parent(i):\n",
    "    return i//2\n",
    "\n",
    "def Left(i):\n",
    "    return (2*i)+1\n",
    "\n",
    "def Right(i):\n",
    "    return (2*i)+2\n",
    "\n",
    "def MaxHeapIFy(l,i,HeapSize=None):\n",
    "    l_index=Left(i)\n",
    "    r_index=Right(i)\n",
    "    try: \n",
    "        if l_index<=HeapSize and l[l_index]>l[i]:\n",
    "            largest_index=l_index\n",
    "        else: largest_index=i\n",
    "    \n",
    "    except IndexError:\n",
    "        largest_index=i\n",
    "    \n",
    "    try: \n",
    "        if (r_index<=HeapSize) & (l[r_index]>l[largest_index]):\n",
    "            largest_index=r_index\n",
    "    except IndexError:\n",
    "        s = \"do nothing\" \n",
    "     \n",
    "    \n",
    "    # Switch block\n",
    "    if largest_index !=i:\n",
    "        #Swap\n",
    "        l[i], l[largest_index]=l[largest_index], l[i]\n",
    "        MaxHeapIFy(l,largest_index,HeapSize)\n",
    "    \n",
    "    return l\n",
    "\n",
    "def Bulid_Max_Heap(l):\n",
    "    \n",
    "    r=len(l)//2\n",
    "    heapsize=len(l)\n",
    "    for i in reversed (range(r) ):\n",
    "        MaxHeapIFy(l,i,heapsize)\n",
    "        \n",
    "    return l\n",
    "def  Heap_Sort(l):\n",
    "    Bulid_Max_Heap(l)\n",
    "    r= len(l)\n",
    "    \n",
    "    for i in reversed (range(r)):\n",
    "        #Swap\n",
    "        l[0],l[i]=l[i], l[0]\n",
    "        \n",
    "        MaxHeapIFy(l,0,i-1) \n",
    "    return l\n",
    "    \n",
    "\n",
    "if __name__ == '__main__':\n",
    "    l=Random_List()\n",
    "    print(\"Random list is:\\n\",l)\n",
    "    print (\"The list become after sorting:\\n\", Heap_Sort(l))"
   ]
  },
  {
   "cell_type": "markdown",
   "metadata": {},
   "source": [
    "# O2"
   ]
  },
  {
   "cell_type": "markdown",
   "metadata": {},
   "source": [
    "Write a program which stores integer numbers into an array with\n",
    "hashing. Use open addressing and (for example) linear probing.\n",
    "Program should have at least insert and delete operations.\n",
    "Test the operations thoroughly."
   ]
  },
  {
   "cell_type": "markdown",
   "metadata": {},
   "source": [
    "# Idea\n"
   ]
  },
  {
   "cell_type": "markdown",
   "metadata": {},
   "source": [
    "<ol>\n",
    "  \n",
    "  <li>Size of the table should be prime</li>\n",
    "  <li>Write Linear probing hash function</li>\n",
    "  <li>Write insert function</li>\n",
    "  <li>Write search function</li>\n",
    "  <li>delete function </li>\n",
    "    \n",
    "</ol>\n",
    "That said, it will (almo"
   ]
  },
  {
   "cell_type": "markdown",
   "metadata": {},
   "source": [
    "# Solution "
   ]
  },
  {
   "cell_type": "code",
   "execution_count": 110,
   "metadata": {},
   "outputs": [
    {
     "name": "stdout",
     "output_type": "stream",
     "text": [
      "The size you have choosed is note prime, it has been  been modified to the nearest samll prime : 7\n",
      "\n",
      " \n",
      " ****Testing insertion hash *****\n",
      "The inserted value should be integer\n",
      "[10, 10, None, 10, 10, 10, 10]\n",
      "You can insert the value in  [10, 10, None, 10, 10, 10, 10]\n",
      "You can insert value in \n",
      "\n",
      " \n",
      " ****Testing hash search*****\n",
      "None\n",
      "3\n",
      "The value type is not exesited\n",
      "None\n",
      "\n",
      " \n",
      " ****Delete hash search*****\n",
      "Testing table is: \n",
      " [10, 10, None, 10, 10, 10, 10]\n",
      "Key 10 deleted\n",
      "Table after testing is: \n",
      " [10, 10, None, 'Deleted', 10, 10, 10]\n",
      "Key 10 deleted\n",
      "Key 10 deleted\n",
      "Key 10 deleted\n",
      "Table after testing is: \n",
      " [10, 10, None, 'Deleted', 'Deleted', 'Deleted', 'Deleted']\n",
      "Key 10 deleted\n",
      "Key 10 deleted\n",
      "Key 10 can not be deleted\n",
      "Table after testing is: \n",
      " ['Deleted', 'Deleted', None, 'Deleted', 'Deleted', 'Deleted', 'Deleted']\n"
     ]
    }
   ],
   "source": [
    "def hash_table(size):\n",
    "    if not sympy.isprime(size):\n",
    "        #modify the size tothe prev prime smaller than  inserted size.\n",
    "        size=sympy.prevprime(size)\n",
    "        print(\"The size you have choosed is note prime, it has been  been modified to the nearest samll prime :\",size)\n",
    "    table=[None]*size\n",
    "    return (table,size)\n",
    "\n",
    "\n",
    "def linear_hash_function(size):\n",
    "    linear_prop_hash_fun= lambda key,i : (key+i)%size\n",
    "    return linear_prop_hash_fun\n",
    "\n",
    "def hash_insert(T,k):\n",
    "    if type(k)!=int:\n",
    "        print(\"The inserted value should be integer\")\n",
    "        return (\"\") \n",
    "    i=0\n",
    "    size_table=len(T)\n",
    "    h=linear_hash_function(size_table)\n",
    "    while i<size_table:\n",
    "        #print(T)\n",
    "        j=h(k,i)\n",
    "        if T[j]==None:\n",
    "            T[j]=k\n",
    "            return j\n",
    "        else:i=i+1\n",
    "        \n",
    "    raise Exception(\"Overflow\")       \n",
    "    \n",
    "\n",
    "\n",
    "def hash_search(T,k):\n",
    "    if type(k)!=int:\n",
    "        print(\"The value type is not exesited\")\n",
    "        return None \n",
    "    i=0\n",
    "    size_table=len(T)\n",
    "    h=linear_hash_function(size_table)\n",
    "    while i<size_table:\n",
    "        j=h(k,i)\n",
    "        if T[j]==None:\n",
    "            return None\n",
    "        elif T[j]==k:\n",
    "            return j\n",
    "        i=i+1\n",
    "    return None\n",
    "        \n",
    "def hash_delete(T,k):\n",
    "    index=hash_search(T,k)\n",
    "    if index != None:\n",
    "        T[index]=\"Deleted\"\n",
    "        print ('Key {} deleted'.format(k))\n",
    "    else:\n",
    "        print ('Key {} can not be deleted'.format(k))\n",
    "        \n",
    "if __name__ == '__main__':\n",
    "    \n",
    "    table,size =hash_table(10)\n",
    "    hash_fun=linear_hash_function(size)\n",
    "    \n",
    "    \n",
    "    #---Test insertion----\n",
    "    print(\"\\n \\n ****Testing insertion hash *****\")\n",
    "    hash_insert(table,10)\n",
    "    hash_insert(table,1.5)\n",
    "    hash_insert(table,10)\n",
    "    hash_insert(table,10)\n",
    "    hash_insert(table,10)\n",
    "    hash_insert(table,10)\n",
    "    hash_insert(table,10)\n",
    "    print(table)\n",
    "    print(\"You can insert the value in \",table)\n",
    "    print(\"You can insert value in \", )\n",
    "    \n",
    "    \n",
    "    \n",
    "    #---Test Search----\n",
    "    print(\"\\n \\n ****Testing hash search*****\")\n",
    "    print(hash_search(table,1))\n",
    "    print(hash_search(table,10))\n",
    "    print(hash_search(table,\"\"))\n",
    "    \n",
    "    \n",
    "    #---Test Delete----\n",
    "    print(\"\\n \\n ****Delete hash search*****\")\n",
    "    print(\"Testing table is: \\n\", table)\n",
    "    hash_delete(table,10)\n",
    "    print(\"Table after testing is: \\n\",table)\n",
    "    hash_delete(table,10)\n",
    "    hash_delete(table,10)\n",
    "    hash_delete(table,10)\n",
    "    print(\"Table after testing is: \\n\",table)\n",
    "    \n",
    "    hash_delete(table,10)\n",
    "    hash_delete(table,10)\n",
    "    hash_delete(table,10)\n",
    "    print(\"Table after testing is: \\n\",table)\n",
    "    \n",
    "    \n",
    "    \n",
    "    "
   ]
  },
  {
   "cell_type": "code",
   "execution_count": null,
   "metadata": {},
   "outputs": [],
   "source": []
  },
  {
   "cell_type": "code",
   "execution_count": null,
   "metadata": {},
   "outputs": [],
   "source": []
  }
 ],
 "metadata": {
  "kernelspec": {
   "display_name": "Python 3",
   "language": "python",
   "name": "python3"
  },
  "language_info": {
   "codemirror_mode": {
    "name": "ipython",
    "version": 3
   },
   "file_extension": ".py",
   "mimetype": "text/x-python",
   "name": "python",
   "nbconvert_exporter": "python",
   "pygments_lexer": "ipython3",
   "version": "3.7.5"
  }
 },
 "nbformat": 4,
 "nbformat_minor": 2
}
