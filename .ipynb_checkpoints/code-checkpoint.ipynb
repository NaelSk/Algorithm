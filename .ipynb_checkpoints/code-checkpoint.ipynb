{
 "cells": [
  {
   "cell_type": "markdown",
   "metadata": {},
   "source": [
    "# Algoritm 1\n"
   ]
  },
  {
   "cell_type": "markdown",
   "metadata": {},
   "source": [
    "Kirjoita ohjelma, jolla voidaan laskea, kuinka moni kokonaislukutaulukon luvuista kuuluu annetulle välille [a,b]. Muodosta taulukko, joka sisältää satunnaisia kokonaislukuja, ja laske kuinka moni sen luvuista kuuluu väleille [0,10], [50,100] ja [67,75]. (Javassa ja C#:ssa satunnaislukuja voi luoda Random-luokan metodeilla.)\n",
    "\n"
   ]
  },
  {
   "cell_type": "code",
   "execution_count": 5,
   "metadata": {},
   "outputs": [],
   "source": [
    "import numpy as np\n",
    "from numpy import random\n",
    "from numpy.random import uniform\n"
   ]
  },
  {
   "cell_type": "code",
   "execution_count": 54,
   "metadata": {},
   "outputs": [
    {
     "name": "stdout",
     "output_type": "stream",
     "text": [
      "[28 14 37  7 30 41 36 16 40 43 17 43 39 17 22 37 18 25 44 25 43  9 48  9\n",
      " 28 31 45 40 10  9 33 45 21 20 33 35 27 20 41 17 16 35 19 20 17 49 11 45\n",
      " 38 36 18 43 47 34 43  7 17 27 27 43 31 44 29 25 16 15 50 29 21 16 49  7\n",
      " 29 40 18 47 39 11 41  7 31 22 18 36 46 23 47  9 48 13 50 41]\n",
      "84\n"
     ]
    }
   ],
   "source": [
    "\n",
    "def rand(down, up):\n",
    "  \"\"\"\n",
    "  The function will take upper and lower boundary for certine interval \n",
    "  and generate a random arry of integers with random size. Will \n",
    "  return how many integers in that array belong to that given  interval \n",
    "  \"\"\"\n",
    "  #create random arry with random size. \n",
    "  size=round(uniform(0,100))\n",
    "  bound1= round(uniform(0,2*up))\n",
    "  bound2= round(uniform(0,2*down))\n",
    "  ranUp=bound2\n",
    "  ranDw=bound1\n",
    "  \n",
    "  if bound1 > bound2:\n",
    "        ranUp=bound1\n",
    "        ranDw=bound2\n",
    "  \n",
    "    \n",
    "  random_values=random.randint(ranDw, ranUp,size)\n",
    "    \n",
    "    \n",
    "  print(random_values)\n",
    "  counter=0\n",
    "  for i in random_values:\n",
    "    if i >= down and i <= up: \n",
    "        counter+=1\n",
    "  return counter\n",
    "if __name__ == '__main__':\n",
    "    print(rand(10,100))\n",
    "    "
   ]
  },
  {
   "cell_type": "markdown",
   "metadata": {},
   "source": [
    "# Algoritm 2\n"
   ]
  },
  {
   "cell_type": "markdown",
   "metadata": {},
   "source": [
    "## O1\n"
   ]
  },
  {
   "cell_type": "markdown",
   "metadata": {},
   "source": [
    "Write a program which sorts the numbers in an integer array into\n",
    "descending or ascending order using the method of heapsort.\n",
    "Test the program with some random integer arrays."
   ]
  },
  {
   "cell_type": "markdown",
   "metadata": {},
   "source": [
    "# idea\n"
   ]
  },
  {
   "cell_type": "markdown",
   "metadata": {},
   "source": [
    "First we have to build the heap from that list. Then start sorting.\n"
   ]
  },
  {
   "cell_type": "code",
   "execution_count": 6,
   "metadata": {
    "scrolled": true
   },
   "outputs": [
    {
     "name": "stdout",
     "output_type": "stream",
     "text": [
      "Random list is:\n",
      " [27, 21, 13, 28, 1]\n",
      "The list become after sorting:\n",
      " [1, 13, 21, 27, 28]\n"
     ]
    }
   ],
   "source": [
    "def Random_List():  \n",
    "    randomlist = []\n",
    "    size=n = random.randint(1,20)\n",
    "    for i in range(0,size):\n",
    "        n = random.randint(1,30)\n",
    "        randomlist.append(n)\n",
    "    return randomlist\n",
    "\n",
    "\n",
    "def Parent(i):\n",
    "    return i//2\n",
    "\n",
    "def Left(i):\n",
    "    return (2*i)+1\n",
    "\n",
    "def Right(i):\n",
    "    return (2*i)+2\n",
    "\n",
    "def MaxHeapIFy(l,i,HeapSize=None):\n",
    "    l_index=Left(i)\n",
    "    r_index=Right(i)\n",
    "    try: \n",
    "        if l_index<=HeapSize and l[l_index]>l[i]:\n",
    "            largest_index=l_index\n",
    "        else: largest_index=i\n",
    "    \n",
    "    except IndexError:\n",
    "        largest_index=i\n",
    "    \n",
    "    try: \n",
    "        if (r_index<=HeapSize) & (l[r_index]>l[largest_index]):\n",
    "            largest_index=r_index\n",
    "    except IndexError:\n",
    "        s = \"do nothing\" \n",
    "     \n",
    "    \n",
    "    # Switch block\n",
    "    if largest_index !=i:\n",
    "        #Swap\n",
    "        l[i], l[largest_index]=l[largest_index], l[i]\n",
    "        MaxHeapIFy(l,largest_index,HeapSize)\n",
    "    \n",
    "    return l\n",
    "\n",
    "def Bulid_Max_Heap(l):\n",
    "    \n",
    "    r=len(l)//2\n",
    "    heapsize=len(l)\n",
    "    for i in reversed (range(r) ):\n",
    "        MaxHeapIFy(l,i,heapsize)\n",
    "        \n",
    "    return l\n",
    "def  Heap_Sort(l):\n",
    "    Bulid_Max_Heap(l)\n",
    "    r= len(l)\n",
    "    \n",
    "    for i in reversed (range(r)):\n",
    "        #Swap\n",
    "        l[0],l[i]=l[i], l[0]\n",
    "        \n",
    "        MaxHeapIFy(l,0,i-1) \n",
    "    return l\n",
    "    \n",
    "\n",
    "if __name__ == '__main__':\n",
    "    l=Random_List()\n",
    "    print(\"Random list is:\\n\",l)\n",
    "    print (\"The list become after sorting:\\n\", Heap_Sort(l))"
   ]
  },
  {
   "cell_type": "markdown",
   "metadata": {},
   "source": [
    "# O2"
   ]
  },
  {
   "cell_type": "markdown",
   "metadata": {},
   "source": [
    "Write a program which stores integer numbers into an array with\n",
    "hashing. Use open addressing and (for example) linear probing.\n",
    "Program should have at least insert and delete operations.\n",
    "Test the operations thoroughly."
   ]
  },
  {
   "cell_type": "markdown",
   "metadata": {},
   "source": [
    "# Idea\n"
   ]
  },
  {
   "cell_type": "markdown",
   "metadata": {},
   "source": [
    "<ol>\n",
    "  \n",
    "  <li>Size of the table should be prime</li>\n",
    "  <li>Write hash function</li>\n",
    "  <li>Write insert function</li>\n",
    "  <li>Write search function</li>\n",
    "  <li>delete function </li>\n",
    "    \n",
    "</ol>\n",
    "That said, it will (almo"
   ]
  },
  {
   "cell_type": "markdown",
   "metadata": {},
   "source": [
    "# Solution "
   ]
  },
  {
   "cell_type": "code",
   "execution_count": null,
   "metadata": {},
   "outputs": [],
   "source": []
  }
 ],
 "metadata": {
  "kernelspec": {
   "display_name": "Python 3",
   "language": "python",
   "name": "python3"
  },
  "language_info": {
   "codemirror_mode": {
    "name": "ipython",
    "version": 3
   },
   "file_extension": ".py",
   "mimetype": "text/x-python",
   "name": "python",
   "nbconvert_exporter": "python",
   "pygments_lexer": "ipython3",
   "version": "3.7.5"
  }
 },
 "nbformat": 4,
 "nbformat_minor": 2
}
